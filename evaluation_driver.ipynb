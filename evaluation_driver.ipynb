{
 "cells": [
  {
   "cell_type": "code",
   "execution_count": 83,
   "metadata": {},
   "outputs": [],
   "source": [
    "import matplotlib.pyplot as plt\n",
    "import pickle\n",
    "import os\n",
    "\n",
    "# ENCODER_DIR = 'trained_models/encoders/encoder_tissue_224_1024_256_30_1e-05_baseline'\n",
    "ENCODER_DIR = 'trained_models/encoders/encoder_resnet50_2048'"
   ]
  },
  {
   "cell_type": "code",
   "execution_count": 84,
   "metadata": {},
   "outputs": [
    {
     "name": "stdout",
     "output_type": "stream",
     "text": [
      "Minimum loss: 329.1702880859375\n",
      "Final loss: 329.1702880859375\n"
     ]
    },
    {
     "data": {
      "image/png": "[encoded data removed]",
      "text/plain": [
       "<Figure size 864x432 with 1 Axes>"
      ]
     },
     "metadata": {},
     "output_type": "display_data"
    }
   ],
   "source": [
    "with open(os.path.join(ENCODER_DIR, 'history.pickle'), 'rb') as file:\n",
    "    history = pickle.load(file)\n",
    "\n",
    "print('Minimum loss:', min(history['loss']))\n",
    "print('Final loss:', history['loss'][-1])\n",
    "\n",
    "plt.figure(figsize=(12, 6))\n",
    "plt.title(os.path.split(ENCODER_DIR)[-1])\n",
    "\n",
    "plt.plot(history['loss'], label='training loss', c='k')\n",
    "plt.legend()\n",
    "\n",
    "# plt.gca().set_yscale('log')\n",
    "plt.show()"
   ]
  },
  {
   "cell_type": "code",
   "execution_count": 87,
   "metadata": {
    "scrolled": true
   },
   "outputs": [
    {
     "name": "stdout",
     "output_type": "stream",
     "text": [
      "Figure(1000x600)\n",
      "At early stop epoch,\n",
      "\tloss: 0.03078\n",
      "\tacc: 0.99538\n",
      "\ttop_2_accuracy: 0.99882\n",
      "\tMCC: 0.99319\n",
      "\tval_loss: 0.35793\n",
      "\tval_acc: 0.89078\n",
      "\tval_top_2_accuracy: 0.97734\n",
      "\tval_MCC: 0.83849\n",
      "\n",
      "Calculating statistics...\n",
      "Found 6935 validated image filenames belonging to 5 classes.\n",
      "minor: ['junk' 'tils' 'white'] Found 1652 validated image filenames belonging to 5 classes.\n",
      "major: ['stroma' 'tumor'] Found 5283 validated image filenames belonging to 5 classes.\n",
      "Traceback (most recent call last):\n",
      "  File \"evaluate_classifier.py\", line 110, in <module>\n",
      "    model.load_weights(os.path.join(DIR, 'classifier.h5'))\n",
      "  File \"/usr/local/lib/python3.6/dist-packages/tensorflow/python/keras/engine/training.py\", line 2211, in load_weights\n",
      "    hdf5_format.load_weights_from_hdf5_group(f, self.layers)\n",
      "  File \"/usr/local/lib/python3.6/dist-packages/tensorflow/python/keras/saving/hdf5_format.py\", line 706, in load_weights_from_hdf5_group\n",
      "    str(len(weight_values)) + ' elements.')\n",
      "ValueError: Layer #0 (named \"functional_1\" in the current model) was found to correspond to layer resnet50v2 in the save file. However the new layer functional_1 expects 112 weights, but the saved weights have 270 elements.\n"
     ]
    }
   ],
   "source": [
    "!python evaluate_classifier.py -d \"trained_models/classifiers/supervised_resnet50_0.2\" -p 2048"
   ]
  },
  {
   "cell_type": "code",
   "execution_count": 86,
   "metadata": {},
   "outputs": [
    {
     "name": "stdout",
     "output_type": "stream",
     "text": [
      "Model name: barlow_resnet50_0.2\n",
      "Saving at: trained_models/classifiers/barlow_resnet50_0.2\n",
      "Found 8655 validated image filenames belonging to 5 classes.\n",
      "Found 6491 validated image filenames belonging to 5 classes.\n",
      "Found 6935 validated image filenames belonging to 5 classes.\n",
      "Number of devices: 4\n",
      "Traceback (most recent call last):\n",
      "  File \"train_classifier.py\", line 186, in <module>\n",
      "    main(model_name=f'barlow_resnet50_{s}', cifar_resnet=False)\n",
      "  File \"train_classifier.py\", line 148, in main\n",
      "    model = load_model(MODEL_TYPE, len(classes), steps_per_epoch, cifar_resnet=cifar_resnet)\n",
      "  File \"train_classifier.py\", line 112, in load_model\n",
      "    encoder_trainable=encoder_trainable\n",
      "  File \"/tf/ssl/utils/models/resnet.py\", line 31, in get_classifier\n",
      "    encoder = get_encoder(input_shape=input_shape, weights=encoder_weights)\n",
      "  File \"/tf/ssl/utils/models/resnet.py\", line 19, in get_encoder\n",
      "    pooling='avg'\n",
      "  File \"/usr/local/lib/python3.6/dist-packages/tensorflow/python/keras/applications/resnet_v2.py\", line 59, in ResNet50V2\n",
      "    classifier_activation=classifier_activation)\n",
      "  File \"/usr/local/lib/python3.6/dist-packages/tensorflow/python/keras/applications/resnet.py\", line 141, in ResNet\n",
      "    raise ValueError('The `weights` argument should be either '\n",
      "ValueError: The `weights` argument should be either `None` (random initialization), `imagenet` (pre-training on ImageNet), or the path to the weights file to be loaded.\n"
     ]
    }
   ],
   "source": [
    "!python train_classifier.py"
   ]
  }
 ],
 "metadata": {
  "kernelspec": {
   "display_name": "Python 3",
   "language": "python",
   "name": "python3"
  },
  "language_info": {
   "codemirror_mode": {
    "name": "ipython",
    "version": 3
   },
   "file_extension": ".py",
   "mimetype": "text/x-python",
   "name": "python",
   "nbconvert_exporter": "python",
   "pygments_lexer": "ipython3",
   "version": "3.6.9"
  }
 },
 "nbformat": 4,
 "nbformat_minor": 2
}
