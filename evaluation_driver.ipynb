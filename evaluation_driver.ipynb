{
 "cells": [
  {
   "cell_type": "code",
   "execution_count": 128,
   "metadata": {},
   "outputs": [],
   "source": [
    "import matplotlib.pyplot as plt\n",
    "import pickle\n",
    "import os\n",
    "\n",
    "# ENCODER_DIR = 'trained_models/encoders/encoder_tissue_224_1024_256_30_1e-05_baseline'\n",
    "ENCODER_DIR = 'trained_models/encoders/encoder_resnet50_100_0.2'"
   ]
  },
  {
   "cell_type": "code",
   "execution_count": 129,
   "metadata": {},
   "outputs": [
    {
     "name": "stdout",
     "output_type": "stream",
     "text": [
      "Minimum loss: 329.31524658203125\n",
      "Final loss: 329.7917785644531\n"
     ]
    },
    {
     "data": {
      "image/png": "[encoded data removed]",
      "text/plain": [
       "<Figure size 864x432 with 1 Axes>"
      ]
     },
     "metadata": {},
     "output_type": "display_data"
    }
   ],
   "source": [
    "with open(os.path.join(ENCODER_DIR, 'history.pickle'), 'rb') as file:\n",
    "    history = pickle.load(file)\n",
    "\n",
    "print('Minimum loss:', min(history['loss']))\n",
    "print('Final loss:', history['loss'][-1])\n",
    "\n",
    "plt.figure(figsize=(12, 6))\n",
    "plt.title(os.path.split(ENCODER_DIR)[-1])\n",
    "\n",
    "plt.plot(history['loss'], label='training loss', c='k')\n",
    "plt.legend()\n",
    "\n",
    "# plt.gca().set_yscale('log')\n",
    "plt.show()"
   ]
  },
  {
   "cell_type": "code",
   "execution_count": 118,
   "metadata": {
    "scrolled": true
   },
   "outputs": [
    {
     "name": "stdout",
     "output_type": "stream",
     "text": [
      "Evaluating model from: trained_models/classifiers/barlow_resnet50_0.2\n",
      "At the early stop epochs: {'loss': 0.0163, 'acc': 0.99716, 'top_2_accuracy': 0.99988, 'MCC': 0.99581, 'val_loss': 0.34844, 'val_acc': 0.89703, 'val_top_2_accuracy': 0.98203, 'val_MCC': 0.84725}\n",
      "Found 6935 validated image filenames belonging to 5 classes.\n",
      "minor: ['junk' 'tils' 'white'] Found 1652 validated image filenames belonging to 5 classes.\n",
      "major: ['stroma' 'tumor'] Found 5283 validated image filenames belonging to 5 classes.\n",
      "Number of devices: 4\n",
      "Encoder trainable: True\n",
      "Model: \"functional_1\"\n",
      "_________________________________________________________________\n",
      "Layer (type)                 Output Shape              Param #   \n",
      "=================================================================\n",
      "input_2 (InputLayer)         [(None, 224, 224, 3)]     0         \n",
      "_________________________________________________________________\n",
      "resnet50v2 (Functional)      (None, 2048)              23564800  \n",
      "_________________________________________________________________\n",
      "dense (Dense)                (None, 5)                 10245     \n",
      "=================================================================\n",
      "Total params: 23,575,045\n",
      "Trainable params: 23,529,605\n",
      "Non-trainable params: 45,440\n",
      "_________________________________________________________________\n",
      "all:\n",
      "28/28 [==============================] - 16s 575ms/step - loss: 0.8359 - acc: 0.7726 - top_2_accuracy: 0.9302 - MCC: 0.6622\n",
      "minor:\n",
      "7/7 [==============================] - 4s 588ms/step - loss: 1.8461 - acc: 0.5424 - top_2_accuracy: 0.8093 - MCC: 0.3961\n",
      "major:\n",
      "21/21 [==============================] - 14s 662ms/step - loss: 0.5200 - acc: 0.8446 - top_2_accuracy: 0.9680 - MCC: 0.7033\n",
      "\n",
      "Generating confusion matrix...\n",
      "100%|███████████████████████████████████████████████████████████████████████████████████| 28/28 [00:37<00:00,  1.34s/it]\n",
      "Micro AUROC: 0.9537 Macro AUROC: 0.9363\n"
     ]
    }
   ],
   "source": [
    "!python evaluate.py"
   ]
  },
  {
   "cell_type": "code",
   "execution_count": 127,
   "metadata": {},
   "outputs": [
    {
     "name": "stdout",
     "output_type": "stream",
     "text": [
      "Model name: test3_resnet50_0.2\n",
      "save_dir already exists, continue? (Y/n)  >> ^C\n",
      "Traceback (most recent call last):\n",
      "  File \"train_classifier.py\", line 41, in configure_saving\n",
      "    os.makedirs(save_dir, exist_ok=False)\n",
      "  File \"/usr/lib/python3.6/os.py\", line 220, in makedirs\n",
      "    mkdir(name, mode)\n",
      "FileExistsError: [Errno 17] File exists: 'trained_models/classifiers/resnet50/test3_resnet50_0.2'\n",
      "\n",
      "During handling of the above exception, another exception occurred:\n",
      "\n",
      "Traceback (most recent call last):\n",
      "  File \"train_classifier.py\", line 206, in <module>\n",
      "    main(model_name=f'test3_resnet50_{s}', cifar_resnet=False)\n",
      "  File \"train_classifier.py\", line 155, in main\n",
      "    save_dir = configure_saving(suffix, model_name)\n",
      "  File \"train_classifier.py\", line 43, in configure_saving\n",
      "    input_ = input('save_dir already exists, continue? (Y/n)  >> ')\n",
      "KeyboardInterrupt\n"
     ]
    }
   ],
   "source": [
    "!python train_classifier.py"
   ]
  }
 ],
 "metadata": {
  "kernelspec": {
   "display_name": "Python 3",
   "language": "python",
   "name": "python3"
  },
  "language_info": {
   "codemirror_mode": {
    "name": "ipython",
    "version": 3
   },
   "file_extension": ".py",
   "mimetype": "text/x-python",
   "name": "python",
   "nbconvert_exporter": "python",
   "pygments_lexer": "ipython3",
   "version": "3.6.9"
  }
 },
 "nbformat": 4,
 "nbformat_minor": 2
}
